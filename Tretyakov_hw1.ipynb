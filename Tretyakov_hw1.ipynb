{
 "cells": [
  {
   "cell_type": "markdown",
   "metadata": {},
   "source": [
    "**Общая информация**\n",
    "\n",
    "**Срок сдачи:** 16 марта 2020, 08:30 \n",
    "\n",
    "**Штраф за опоздание:** по 1 баллу за 24 часа задержки. Через 5 дней домашнее задание сгорает.\n",
    "\n",
    "При отправлении ДЗ указывайте фамилию в названии файла\n",
    "Присылать ДЗ необходимо в виде ссылки на свой github репозиторий на почту ml1.sphere@mail.ru с указанием темы в следующем формате:\n",
    "\n",
    "[ML0220, Задание 1] Фамилия Имя.\n",
    "\n",
    "Используйте данный Ipython Notebook при оформлении домашнего задания."
   ]
  },
  {
   "cell_type": "markdown",
   "metadata": {},
   "source": [
    "\n",
    "**Штрафные баллы:**\n",
    "\n",
    "1. Отсутствие фамилии в имени скрипта (скрипт должен называться по аналогии со stroykova_hw1.ipynb) -0.5 баллов\n",
    "2. Все строчки должны быть выполнены. Нужно, чтобы output команды можно было увидеть уже в git'е. В противном случае -0.5 баллов\n"
   ]
  },
  {
   "cell_type": "code",
   "execution_count": 1,
   "metadata": {},
   "outputs": [],
   "source": [
    "import numpy as np\n",
    "import matplotlib.pyplot as plt\n",
    "\n",
    "import seaborn as sns\n",
    "from sklearn import datasets\n",
    "from sklearn.base import BaseEstimator\n",
    "from sklearn.datasets import fetch_20newsgroups #,fetch_mldata\n",
    "\n",
    "from sklearn.model_selection import train_test_split\n",
    "from sklearn.neighbors import KNeighborsClassifier\n",
    "from sklearn.metrics import accuracy_score"
   ]
  },
  {
   "cell_type": "markdown",
   "metadata": {},
   "source": [
    "##### Задание 1 (1 балл)\n",
    "Реализовать KNN в классе MyKNeighborsClassifier (обязательное условие: точность не ниже sklearn реализации)\n",
    "Разберитесь самостоятельно, какая мера расстояния используется в KNeighborsClassifier дефолтно и реализуйте свой алгоритм именно с этой мерой. \n",
    "Для подсчета расстояний можно использовать функции [отсюда](https://docs.scipy.org/doc/scipy/reference/spatial.distance.html)"
   ]
  },
  {
   "cell_type": "code",
   "execution_count": 34,
   "metadata": {},
   "outputs": [],
   "source": [
    "from scipy.spatial import distance\n",
    "from sklearn.neighbors import KDTree\n",
    "class MyKNeighborsClassifier(BaseEstimator):\n",
    "    def __init__(self, n_neighbors=5, algorithm='brute'):\n",
    "        self.k=n_neighbors\n",
    "        self.metric='euclidean'\n",
    "        self.alg=algorithm\n",
    "        self.cla=10\n",
    "    \n",
    "    def fit(self, X, y):\n",
    "        self.data=X#(X-np.expand_dims(X.min(axis=1), axis=1))/(np.expand_dims(X.max(axis=1), axis=1)-np.expand_dims(X.min(axis=1), axis=1))\n",
    "        self.clas=y\n",
    "        self.tree = KDTree(X, leaf_size=12)\n",
    "        \n",
    "    def findkneighbors (self,X):\n",
    "        if (self.alg=='kd_tree'):\n",
    "            ind = self.tree.query(X, k=3,return_distance=False)\n",
    "        else:\n",
    "            metrix=distance.cdist(X,self.data,metric=self.metric)\n",
    "            ind=metrix.argsort(axis=1)[:,:self.k:]\n",
    "        return ind\n",
    "    \n",
    "    def changemetr(self,str):\n",
    "        self.metric=str\n",
    "        \n",
    "    def predict(self, X):\n",
    "        kne=self.findkneighbors(X)\n",
    "        pred=[]\n",
    "        for i in range(kne.shape[0]):\n",
    "            pred.append(np.argmax(np.bincount(self.clas[kne[i]],minlength=self.cla)))\n",
    "        return np.asarray(pred)"
   ]
  },
  {
   "cell_type": "markdown",
   "metadata": {},
   "source": [
    "**IRIS**\n",
    "\n",
    "В библиотеке scikit-learn есть несколько датасетов из коробки. Один из них [Ирисы Фишера](https://ru.wikipedia.org/wiki/%D0%98%D1%80%D0%B8%D1%81%D1%8B_%D0%A4%D0%B8%D1%88%D0%B5%D1%80%D0%B0)"
   ]
  },
  {
   "cell_type": "code",
   "execution_count": 3,
   "metadata": {},
   "outputs": [],
   "source": [
    "iris = datasets.load_iris()"
   ]
  },
  {
   "cell_type": "code",
   "execution_count": 4,
   "metadata": {},
   "outputs": [],
   "source": [
    "X_train, X_test, y_train, y_test = train_test_split(iris.data, iris.target, test_size=0.1, stratify=iris.target)"
   ]
  },
  {
   "cell_type": "code",
   "execution_count": 5,
   "metadata": {},
   "outputs": [],
   "source": [
    "clf = KNeighborsClassifier(n_neighbors=2, algorithm='brute')\n",
    "my_clf = MyKNeighborsClassifier(n_neighbors=2, algorithm='brute')"
   ]
  },
  {
   "cell_type": "code",
   "execution_count": 6,
   "metadata": {},
   "outputs": [],
   "source": [
    "clf.fit(X_train, y_train)\n",
    "my_clf.fit(X_train, y_train)"
   ]
  },
  {
   "cell_type": "code",
   "execution_count": 7,
   "metadata": {},
   "outputs": [],
   "source": [
    "sklearn_pred = clf.predict(X_test)\n",
    "my_clf_pred = my_clf.predict(X_test)\n",
    "assert abs( accuracy_score(y_test, my_clf_pred) -  accuracy_score(y_test, sklearn_pred ) )<0.005, \"Score must be simillar\""
   ]
  },
  {
   "cell_type": "markdown",
   "metadata": {},
   "source": [
    "**Задание 2 (0.5 балла)**\n",
    "\n",
    "Давайте попробуем добиться скорости работы на fit, predict сравнимой со sklearn для iris. Допускается замедление не более чем в 2 раза. \n",
    "Для этого используем numpy. "
   ]
  },
  {
   "cell_type": "code",
   "execution_count": 8,
   "metadata": {},
   "outputs": [
    {
     "name": "stdout",
     "output_type": "stream",
     "text": [
      "CPU times: user 809 µs, sys: 382 µs, total: 1.19 ms\n",
      "Wall time: 892 µs\n"
     ]
    },
    {
     "data": {
      "text/plain": [
       "KNeighborsClassifier(algorithm='brute', leaf_size=30, metric='minkowski',\n",
       "                     metric_params=None, n_jobs=None, n_neighbors=2, p=2,\n",
       "                     weights='uniform')"
      ]
     },
     "execution_count": 8,
     "metadata": {},
     "output_type": "execute_result"
    }
   ],
   "source": [
    "%time clf.fit(X_train, y_train)"
   ]
  },
  {
   "cell_type": "code",
   "execution_count": 9,
   "metadata": {},
   "outputs": [
    {
     "name": "stdout",
     "output_type": "stream",
     "text": [
      "CPU times: user 161 µs, sys: 18 µs, total: 179 µs\n",
      "Wall time: 173 µs\n"
     ]
    }
   ],
   "source": [
    "%time my_clf.fit(X_train, y_train)"
   ]
  },
  {
   "cell_type": "code",
   "execution_count": 10,
   "metadata": {},
   "outputs": [
    {
     "name": "stdout",
     "output_type": "stream",
     "text": [
      "CPU times: user 2.13 ms, sys: 978 µs, total: 3.11 ms\n",
      "Wall time: 2.81 ms\n"
     ]
    },
    {
     "data": {
      "text/plain": [
       "array([2, 0, 1, 2, 0, 2, 2, 0, 1, 2, 1, 1, 0, 1, 0])"
      ]
     },
     "execution_count": 10,
     "metadata": {},
     "output_type": "execute_result"
    }
   ],
   "source": [
    "%time clf.predict(X_test)"
   ]
  },
  {
   "cell_type": "code",
   "execution_count": 11,
   "metadata": {},
   "outputs": [
    {
     "name": "stdout",
     "output_type": "stream",
     "text": [
      "CPU times: user 634 µs, sys: 205 µs, total: 839 µs\n",
      "Wall time: 619 µs\n"
     ]
    },
    {
     "data": {
      "text/plain": [
       "array([2, 0, 1, 2, 0, 2, 2, 0, 1, 2, 1, 1, 0, 1, 0])"
      ]
     },
     "execution_count": 11,
     "metadata": {},
     "output_type": "execute_result"
    }
   ],
   "source": [
    "%time my_clf.predict(X_test)"
   ]
  },
  {
   "cell_type": "markdown",
   "metadata": {},
   "source": [
    "###### Задание 3 (1 балл)\n",
    "Добавьте algorithm='kd_tree' в реализацию KNN (использовать KDTree из sklearn.neighbors). Необходимо добиться скорости работы на fit,  predict сравнимой со sklearn для iris. Допускается замедление не более чем в 2 раза. \n",
    "Для этого используем numpy. Точность не должна уступать значению KNN из sklearn. "
   ]
  },
  {
   "cell_type": "code",
   "execution_count": 12,
   "metadata": {},
   "outputs": [],
   "source": [
    "clf = KNeighborsClassifier(n_neighbors=2, algorithm='kd_tree')\n",
    "my_clf = MyKNeighborsClassifier(n_neighbors=2, algorithm='kd_tree')"
   ]
  },
  {
   "cell_type": "code",
   "execution_count": 13,
   "metadata": {},
   "outputs": [],
   "source": [
    "X_train, X_test, y_train, y_test = train_test_split(iris.data, iris.target, test_size=0.1, stratify=iris.target)"
   ]
  },
  {
   "cell_type": "code",
   "execution_count": 14,
   "metadata": {},
   "outputs": [
    {
     "name": "stdout",
     "output_type": "stream",
     "text": [
      "CPU times: user 763 µs, sys: 133 µs, total: 896 µs\n",
      "Wall time: 816 µs\n"
     ]
    },
    {
     "data": {
      "text/plain": [
       "KNeighborsClassifier(algorithm='kd_tree', leaf_size=30, metric='minkowski',\n",
       "                     metric_params=None, n_jobs=None, n_neighbors=2, p=2,\n",
       "                     weights='uniform')"
      ]
     },
     "execution_count": 14,
     "metadata": {},
     "output_type": "execute_result"
    }
   ],
   "source": [
    "%time clf.fit(X_train, y_train)"
   ]
  },
  {
   "cell_type": "code",
   "execution_count": 15,
   "metadata": {},
   "outputs": [
    {
     "name": "stdout",
     "output_type": "stream",
     "text": [
      "CPU times: user 189 µs, sys: 16 µs, total: 205 µs\n",
      "Wall time: 216 µs\n"
     ]
    }
   ],
   "source": [
    "%time my_clf.fit(X_train, y_train)"
   ]
  },
  {
   "cell_type": "code",
   "execution_count": 16,
   "metadata": {},
   "outputs": [
    {
     "name": "stdout",
     "output_type": "stream",
     "text": [
      "CPU times: user 2.2 ms, sys: 931 µs, total: 3.13 ms\n",
      "Wall time: 2.63 ms\n"
     ]
    },
    {
     "data": {
      "text/plain": [
       "array([1, 1, 0, 0, 2, 1, 0, 1, 0, 2, 1, 0, 2, 1, 2])"
      ]
     },
     "execution_count": 16,
     "metadata": {},
     "output_type": "execute_result"
    }
   ],
   "source": [
    "%time clf.predict(X_test)"
   ]
  },
  {
   "cell_type": "code",
   "execution_count": 17,
   "metadata": {},
   "outputs": [
    {
     "name": "stdout",
     "output_type": "stream",
     "text": [
      "CPU times: user 521 µs, sys: 221 µs, total: 742 µs\n",
      "Wall time: 549 µs\n"
     ]
    },
    {
     "data": {
      "text/plain": [
       "array([1, 1, 0, 0, 2, 1, 0, 1, 0, 2, 1, 0, 2, 1, 2])"
      ]
     },
     "execution_count": 17,
     "metadata": {},
     "output_type": "execute_result"
    }
   ],
   "source": [
    "%time my_clf.predict(X_test)"
   ]
  },
  {
   "cell_type": "code",
   "execution_count": 18,
   "metadata": {},
   "outputs": [],
   "source": [
    "sklearn_pred = clf.predict(X_test)\n",
    "my_clf_pred = my_clf.predict(X_test)\n",
    "assert abs( accuracy_score(y_test, my_clf_pred) -  accuracy_score(y_test, sklearn_pred ) )<0.005, \"Score must be simillar\""
   ]
  },
  {
   "cell_type": "markdown",
   "metadata": {},
   "source": [
    "**Задание 4 (2.5 балла)**\n",
    "\n",
    "Рассмотрим новый датасет 20 newsgroups"
   ]
  },
  {
   "cell_type": "code",
   "execution_count": 19,
   "metadata": {},
   "outputs": [],
   "source": [
    "newsgroups = fetch_20newsgroups(subset='train',remove=['headers','footers', 'quotes'])"
   ]
  },
  {
   "cell_type": "code",
   "execution_count": 20,
   "metadata": {},
   "outputs": [],
   "source": [
    "data = newsgroups['data']\n",
    "target = newsgroups['target']"
   ]
  },
  {
   "cell_type": "markdown",
   "metadata": {},
   "source": [
    "Преобразуйте текстовые данные из data с помощью [CountVectorizer](https://scikit-learn.org/stable/modules/generated/sklearn.feature_extraction.text.CountVectorizer.html). Словарь можно ограничить по частотности."
   ]
  },
  {
   "cell_type": "code",
   "execution_count": 21,
   "metadata": {},
   "outputs": [],
   "source": [
    "from sklearn.feature_extraction.text import CountVectorizer as cv\n",
    "\n",
    "vect=cv(stop_words='english',min_df=100,max_df=3000)\n",
    "vect.fit(data)\n",
    "spis=vect.transform(data).toarray()\n",
    "nam=np.asarray(vect.get_feature_names())"
   ]
  },
  {
   "cell_type": "markdown",
   "metadata": {},
   "source": [
    "*Так мы получили векторное представление наших текстов. Значит можно приступать к задаче обучения модели*"
   ]
  },
  {
   "cell_type": "markdown",
   "metadata": {},
   "source": [
    "Реализуйте разбиение выборки для кросс-валидации на 3 фолдах. Разрешено использовать sklearn.cross_validation"
   ]
  },
  {
   "cell_type": "code",
   "execution_count": 22,
   "metadata": {},
   "outputs": [],
   "source": [
    "from sklearn.model_selection import KFold, cross_validate, cross_val_score\n",
    "begi=KFold(n_splits=3)"
   ]
  },
  {
   "cell_type": "code",
   "execution_count": 23,
   "metadata": {},
   "outputs": [
    {
     "name": "stdout",
     "output_type": "stream",
     "text": [
      "0.2404559915164369\n",
      "0.23760275788915408\n",
      "0.2381331211880138\n"
     ]
    }
   ],
   "source": [
    "#from sklearn.metrics import make_scorer\n",
    "#scoring = {'accuracy': make_scorer(accuracy_score),'prec': 'precision'}\n",
    "for train, test in begi.split(spis):\n",
    "    train=np.asarray(train)\n",
    "    test=np.asarray(test)\n",
    "    turain = MyKNeighborsClassifier()\n",
    "    turain.fit(spis[train],target[train])\n",
    "    lol=turain.predict(spis[test])\n",
    "    print(accuracy_score(target[test], lol))\n",
    "    #print(cross_val_score(turain,spis[test],target[test],scoring='accuracy'))"
   ]
  },
  {
   "cell_type": "markdown",
   "metadata": {},
   "source": [
    "Напишите метод, позволяющий найти оптимальное количество ближайших соседей(дающее максимальную точность в среднем на валидации на 3 фолдах).\n",
    "Постройте график зависимости средней точности от количества соседей. Можно рассмотреть число соседей от 1 до 10."
   ]
  },
  {
   "cell_type": "code",
   "execution_count": 24,
   "metadata": {},
   "outputs": [
    {
     "name": "stdout",
     "output_type": "stream",
     "text": [
      "0.2542871033324494\n",
      "0.22944992195935587\n",
      "0.22945071872288367\n",
      "0.2300694759048867\n",
      "0.23873062353120159\n",
      "0.24102881762448422\n",
      "0.24288476109139356\n",
      "0.24164722329316612\n",
      "0.23987936906452179\n",
      "0.24014443354284465\n",
      "[0.2542871033324494, 0.22944992195935587, 0.22945071872288367, 0.2300694759048867, 0.23873062353120159, 0.24102881762448422, 0.24288476109139356, 0.24164722329316612, 0.23987936906452179, 0.24014443354284465]\n"
     ]
    }
   ],
   "source": [
    "knn=[]\n",
    "for i in range(1,11):\n",
    "    s=0\n",
    "    for train, test in begi.split(spis):\n",
    "        train=np.asarray(train)\n",
    "        test=np.asarray(test)\n",
    "        turain = MyKNeighborsClassifier(n_neighbors=i)\n",
    "        turain.fit(spis[train],target[train])\n",
    "        lol=turain.predict(spis[test])\n",
    "        s+=accuracy_score(target[test], lol)\n",
    "    s/=3\n",
    "    print(s)\n",
    "    knn.append(s)\n",
    "print(knn)"
   ]
  },
  {
   "cell_type": "markdown",
   "metadata": {},
   "source": [
    "Как изменится качество на валидации, если:\n",
    "\n",
    "1. Используется косинусная метрика вместо евклидовой.\n",
    "2. К текстам применяется TfIdf векторизацию( sklearn.feature_extraction.text.TfidfVectorizer)\n",
    "\n",
    "Сравните модели, выберите лучшую."
   ]
  },
  {
   "cell_type": "code",
   "execution_count": 26,
   "metadata": {},
   "outputs": [
    {
     "data": {
      "text/plain": [
       "[<matplotlib.lines.Line2D at 0x125c34510>]"
      ]
     },
     "execution_count": 26,
     "metadata": {},
     "output_type": "execute_result"
    },
    {
     "data": {
      "image/png": "[encoded data removed]",
      "text/plain": [
       "<Figure size 432x288 with 1 Axes>"
      ]
     },
     "metadata": {
      "needs_background": "light"
     },
     "output_type": "display_data"
    }
   ],
   "source": [
    "%matplotlib inline\n",
    "import matplotlib.pyplot as plt\n",
    "import numpy as np\n",
    "plt.plot(knn)"
   ]
  },
  {
   "cell_type": "code",
   "execution_count": 41,
   "metadata": {},
   "outputs": [
    {
     "name": "stdout",
     "output_type": "stream",
     "text": [
      "0.37360783149182536\n",
      "0.35071540928476974\n",
      "0.3763470341977468\n",
      "0.3904885088420598\n",
      "0.40091793251300434\n",
      "0.40851982989754837\n",
      "0.41452988749042835\n",
      "0.4193912464184308\n",
      "0.4243408586242481\n",
      "0.42858376501512585\n",
      "[0.37360783149182536, 0.35071540928476974, 0.3763470341977468, 0.3904885088420598, 0.40091793251300434, 0.40851982989754837, 0.41452988749042835, 0.4193912464184308, 0.4243408586242481, 0.42858376501512585]\n"
     ]
    }
   ],
   "source": [
    "kun=[]\n",
    "for i in range(1,11):\n",
    "    s=0\n",
    "    for train, test in begi.split(spis):\n",
    "        train=np.asarray(train)\n",
    "        test=np.asarray(test)\n",
    "        turain = MyKNeighborsClassifier(n_neighbors=i)\n",
    "        turain.changemetr('cosine')\n",
    "        turain.fit(spis[train],target[train])\n",
    "        lol=turain.predict(spis[test])\n",
    "        s+=accuracy_score(target[test], lol)\n",
    "    s/=3\n",
    "    print(s)\n",
    "    kun.append(s)\n",
    "print(kun)"
   ]
  },
  {
   "cell_type": "code",
   "execution_count": 28,
   "metadata": {},
   "outputs": [],
   "source": [
    "from sklearn.feature_extraction.text import TfidfVectorizer as Tdf\n",
    "\n",
    "vect2=Tdf(stop_words='english',min_df=100,max_df=3000)\n",
    "vect2.fit(data)\n",
    "spis3=vect2.transform(data).toarray()\n",
    "nam3=np.asarray(vect2.get_feature_names())"
   ]
  },
  {
   "cell_type": "code",
   "execution_count": 159,
   "metadata": {},
   "outputs": [
    {
     "name": "stdout",
     "output_type": "stream",
     "text": [
      "0.1877318757622566\n",
      "0.15299589179351378\n",
      "0.1454831147529766\n",
      "0.14000356106428485\n",
      "0.13381627045491165\n",
      "0.13036900274920912\n",
      "0.12780586134871066\n",
      "0.12453575635683718\n",
      "0.12400558053174875\n",
      "0.12312152452920884\n",
      "0.4073721389041914\n",
      "0.38615852088443753\n",
      "0.40931610130670154\n",
      "0.429025664128178\n",
      "0.4446706784178976\n",
      "0.45350919966603426\n",
      "0.45925461459657657\n",
      "0.46340821316967623\n",
      "0.4670321749047797\n",
      "0.4710096653040135\n",
      "[[0.1877318757622566, 0.15299589179351378, 0.1454831147529766, 0.14000356106428485, 0.13381627045491165, 0.13036900274920912, 0.12780586134871066, 0.12453575635683718, 0.12400558053174875, 0.12312152452920884], [0.4073721389041914, 0.38615852088443753, 0.40931610130670154, 0.429025664128178, 0.4446706784178976, 0.45350919966603426, 0.45925461459657657, 0.46340821316967623, 0.4670321749047797, 0.4710096653040135]]\n"
     ]
    }
   ],
   "source": [
    "knn3=[]\n",
    "kun=[]\n",
    "for i in range(1,11):\n",
    "    s=0\n",
    "    for train, test in begi.split(spis3):\n",
    "        train=np.asarray(train)\n",
    "        test=np.asarray(test)\n",
    "        turain = MyKNeighborsClassifier(n_neighbors=i)\n",
    "        turain.fit(spis3[train],target[train])\n",
    "        lol=turain.predict(spis3[test])\n",
    "        s+=accuracy_score(target[test], lol)\n",
    "    s/=3\n",
    "    print(s)\n",
    "    kun.append(s)\n",
    "knn3.append(kun)\n",
    "kun=[]\n",
    "for i in range(1,11):\n",
    "    s=0\n",
    "    for train, test in begi.split(spis3):\n",
    "        train=np.asarray(train)\n",
    "        test=np.asarray(test)\n",
    "        turain = MyKNeighborsClassifier(n_neighbors=i)\n",
    "        turain.changemetr('cosine')\n",
    "        turain.fit(spis3[train],target[train])\n",
    "        lol=turain.predict(spis3[test])\n",
    "        s+=accuracy_score(target[test], lol)\n",
    "    s/=3\n",
    "    print(s)\n",
    "    kun.append(s)\n",
    "knn3.append(kun)\n",
    "print(knn3)"
   ]
  },
  {
   "cell_type": "markdown",
   "metadata": {},
   "source": [
    "Загрузим  теперь test  часть нашей выборки и преобразуем её аналогично с train частью. Не забудьте, что наборы слов в train и test части могут отличаться."
   ]
  },
  {
   "cell_type": "code",
   "execution_count": 38,
   "metadata": {},
   "outputs": [],
   "source": [
    "newsgroups = fetch_20newsgroups(subset='test',remove=['headers','footers', 'quotes'])"
   ]
  },
  {
   "cell_type": "markdown",
   "metadata": {},
   "source": [
    "Оценим точность вашей лучшей модели на test части датасета. Отличается ли оно от кросс-валидации? Попробуйте сделать выводы, почему отличается качество."
   ]
  },
  {
   "cell_type": "code",
   "execution_count": 39,
   "metadata": {},
   "outputs": [
    {
     "name": "stdout",
     "output_type": "stream",
     "text": [
      "0.39272437599575144\n"
     ]
    }
   ],
   "source": [
    "turain = MyKNeighborsClassifier(n_neighbors=10) #оптимальный по валидации\n",
    "turain.changemetr('cosine')\n",
    "turain.fit(spis3,target)\n",
    "lol=turain.predict(spis2)\n",
    "s=accuracy_score(newsgroups['target'], lol)\n",
    "print(s)"
   ]
  },
  {
   "cell_type": "code",
   "execution_count": null,
   "metadata": {},
   "outputs": [],
   "source": []
  }
 ],
 "metadata": {
  "kernelspec": {
   "display_name": "Python 3",
   "language": "python",
   "name": "python3"
  },
  "language_info": {
   "codemirror_mode": {
    "name": "ipython",
    "version": 3
   },
   "file_extension": ".py",
   "mimetype": "text/x-python",
   "name": "python",
   "nbconvert_exporter": "python",
   "pygments_lexer": "ipython3",
   "version": "3.7.6"
  }
 },
 "nbformat": 4,
 "nbformat_minor": 2
}
